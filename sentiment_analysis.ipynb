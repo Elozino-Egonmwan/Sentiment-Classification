{
  "nbformat": 4,
  "nbformat_minor": 0,
  "metadata": {
    "colab": {
      "name": "sentiment_analysis.ipynb",
      "provenance": [],
      "collapsed_sections": [],
      "machine_shape": "hm",
      "mount_file_id": "1VP4Zp0kyMJDi1iQqMvTZc4sAPWnufkfx",
      "authorship_tag": "ABX9TyMnvB++OiGxxRPapG1gij/R",
      "include_colab_link": true
    },
    "kernelspec": {
      "display_name": "Python 3",
      "name": "python3"
    },
    "accelerator": "GPU"
  },
  "cells": [
    {
      "cell_type": "markdown",
      "metadata": {
        "id": "view-in-github",
        "colab_type": "text"
      },
      "source": [
        "<a href=\"https://colab.research.google.com/github/Elozino-Egonmwan/Sentiment-Classification/blob/main/sentiment_analysis.ipynb\" target=\"_parent\"><img src=\"https://colab.research.google.com/assets/colab-badge.svg\" alt=\"Open In Colab\"/></a>"
      ]
    },
    {
      "cell_type": "markdown",
      "metadata": {
        "id": "he5xth0xkYaE"
      },
      "source": [
        "An overview of this task and the presented models can be found [here](https://drive.google.com/file/d/1bvA7Ryw3u7pPzBs-DJ-Bz-wIflXK9vN_/view?usp=sharing)"
      ]
    },
    {
      "cell_type": "markdown",
      "metadata": {
        "id": "MfOJi1h_HQAA"
      },
      "source": [
        "Change directory to 'Sentiment Analysis'"
      ]
    },
    {
      "cell_type": "code",
      "metadata": {
        "colab": {
          "base_uri": "https://localhost:8080/"
        },
        "id": "vnsM2AW0HZdn",
        "outputId": "6dd492b3-a405-4e8e-c460-74f660f010ce"
      },
      "source": [
        "%cd '/content/drive/MyDrive/Sentiment Analysis'"
      ],
      "execution_count": 2,
      "outputs": [
        {
          "output_type": "stream",
          "text": [
            "/content/drive/MyDrive/Sentiment Analysis\n"
          ],
          "name": "stdout"
        }
      ]
    },
    {
      "cell_type": "markdown",
      "metadata": {
        "id": "UAolGxRJmbvK"
      },
      "source": [
        "Install requirements"
      ]
    },
    {
      "cell_type": "code",
      "metadata": {
        "id": "jC9ONtvoSKyj"
      },
      "source": [
        "!pip install tensorflow==1.10\r\n",
        "!pip install transformers"
      ],
      "execution_count": null,
      "outputs": []
    },
    {
      "cell_type": "markdown",
      "metadata": {
        "id": "yHWLqAsZmkvr"
      },
      "source": [
        "[Download](https://drive.google.com/file/d/1Qow1sCYsMbG-sfwVWVsSyDM1eXwNNQYt/view?usp=sharing) the checkpoint for the SOTA model and place in \"models/sota/\""
      ]
    },
    {
      "cell_type": "markdown",
      "metadata": {
        "id": "VECCgPp6nCxk"
      },
      "source": [
        "Run the SOTA model in test mode to predict ratings on the .dev set"
      ]
    },
    {
      "cell_type": "code",
      "metadata": {
        "colab": {
          "base_uri": "https://localhost:8080/"
        },
        "id": "5wU7ckM81neU",
        "outputId": "5c920a0a-2d32-452b-d5ee-99a3c6f0523e"
      },
      "source": [
        "!python src/sent_analysis.py -model 'sota' -mode 'test'"
      ],
      "execution_count": 4,
      "outputs": [
        {
          "output_type": "stream",
          "text": [
            "[2020-12-13 19:55:30,243 INFO] Lock 139893448473344 acquired on /root/.cache/huggingface/transformers/1d2fdd3792e3bcdf73c40c6d598a5c14b7626090fcbeb2f953c99390ea842c15.0d87139f53a477d9f900f8a9020c367863079014bdaf2aa713f4b64cf1782655.lock\n",
            "Downloading: 100% 433/433 [00:00<00:00, 375kB/s]\n",
            "[2020-12-13 19:55:30,513 INFO] Lock 139893448473344 released on /root/.cache/huggingface/transformers/1d2fdd3792e3bcdf73c40c6d598a5c14b7626090fcbeb2f953c99390ea842c15.0d87139f53a477d9f900f8a9020c367863079014bdaf2aa713f4b64cf1782655.lock\n",
            "[2020-12-13 19:55:30,784 INFO] Lock 139893448421160 acquired on /root/.cache/huggingface/transformers/4697440f8a9bdc65498f19a30e7246888f3e508644c188fdd40b971fa08e39ac.68d2bfa76c7cbd9fa9f35f22adac3e6cb048ea6a3c19fd1e4e160ee3d46666f0.lock\n",
            "Downloading: 100% 433M/433M [00:05<00:00, 81.7MB/s]\n",
            "[2020-12-13 19:55:36,160 INFO] Lock 139893448421160 released on /root/.cache/huggingface/transformers/4697440f8a9bdc65498f19a30e7246888f3e508644c188fdd40b971fa08e39ac.68d2bfa76c7cbd9fa9f35f22adac3e6cb048ea6a3c19fd1e4e160ee3d46666f0.lock\n",
            "[2020-12-13 19:56:01,624 INFO] Trained model loaded from models/sota/checkpoint_15.pt\n",
            "[2020-12-13 19:56:03,859 INFO] 7500 lines in data/sentiment_dataset_dev.csv.\n",
            "[2020-12-13 19:56:04,403 INFO] Lock 139893432541760 acquired on /root/.cache/huggingface/transformers/dd6e51de2a982414d626f5f612e567a233209e8583ee24ad942fd2dfd4112e29.437aa611e89f6fc6675a049d2b5545390adbc617e7d655286421c191d2be2791.lock\n",
            "Downloading: 100% 213k/213k [00:00<00:00, 637kB/s]\n",
            "[2020-12-13 19:56:05,011 INFO] Lock 139893432541760 released on /root/.cache/huggingface/transformers/dd6e51de2a982414d626f5f612e567a233209e8583ee24ad942fd2dfd4112e29.437aa611e89f6fc6675a049d2b5545390adbc617e7d655286421c191d2be2791.lock\n",
            "[2020-12-13 19:56:05,284 INFO] Lock 139893432541760 acquired on /root/.cache/huggingface/transformers/6afc601822f894bd35ec3089038596b065704463780badcc6936a5adb6b04142.3dab63143af66769bbb35e3811f75f7e16b2320e12b7935e216bd6159ce6d9a6.lock\n",
            "Downloading: 100% 436k/436k [00:00<00:00, 1.04MB/s]\n",
            "[2020-12-13 19:56:05,979 INFO] Lock 139893432541760 released on /root/.cache/huggingface/transformers/6afc601822f894bd35ec3089038596b065704463780badcc6936a5adb6b04142.3dab63143af66769bbb35e3811f75f7e16b2320e12b7935e216bd6159ce6d9a6.lock\n",
            "[2020-12-13 19:56:08,096 INFO] Data loader running\n",
            "[2020-12-13 19:56:08,097 INFO] Done\n",
            "Val_Acc: 0.763993... Val_Loss: 0.668256...\n",
            "[2020-12-13 19:57:24,096 INFO] \n",
            "\n",
            "test EVALUATION\n",
            "Accuracy  = 0.7645019335911455\n",
            "Precision  = 0.7719135413104921\n",
            "Recall  = 0.7645019335911455\n",
            "F_measure  = 0.7681898607990008\n",
            "100% 7499/7499 [00:00<00:00, 59262.48it/s]\n",
            "[2020-12-13 19:57:24,227 INFO] predictions written to output/sota_output.csv\n"
          ],
          "name": "stdout"
        }
      ]
    },
    {
      "cell_type": "markdown",
      "metadata": {
        "id": "lQvGvo8unVnX"
      },
      "source": [
        ""
      ]
    },
    {
      "cell_type": "code",
      "metadata": {
        "colab": {
          "base_uri": "https://localhost:8080/"
        },
        "id": "pHUpVSqzbxH-",
        "outputId": "ffb15cb9-3716-4480-a8ad-3e60e88d272a"
      },
      "source": [
        "!python src/sent_analysis.py -model 'sota' -mode 'inference' -test_file 'data/sentiment_dataset_test.csv'"
      ],
      "execution_count": 6,
      "outputs": [
        {
          "output_type": "stream",
          "text": [
            "[2020-12-13 20:02:16,942 INFO] Trained model loaded from models/sota/checkpoint_15.pt\n",
            "[2020-12-13 20:02:16,943 INFO] Creating pseudo-labels\n",
            "[2020-12-13 20:02:16,998 INFO] 6501 lines in data/sentiment_dataset_test.csv.\n",
            "[2020-12-13 20:02:19,628 INFO] Data loader running\n",
            "[2020-12-13 20:02:19,629 INFO] Done\n",
            "100% 6500/6500 [00:00<00:00, 63752.31it/s]\n",
            "[2020-12-13 20:03:24,675 INFO] predictions written to output/sota_output.csv\n",
            "[2020-12-13 20:03:24,694 INFO] Loading datasets\n",
            "[2020-12-13 20:03:24,696 INFO] Loading dataset from data/sentiment_dataset_test.csv\n",
            "[2020-12-13 20:03:24,749 INFO] 6501 lines in data/sentiment_dataset_test.csv.\n",
            "[2020-12-13 20:03:24,749 INFO] Loading dataset from data/sentiment_dataset_train.csv\n",
            "invalid literal for int() with base 10: 'Tables not made up prior to guest seating. 2.'\n",
            "[2020-12-13 20:03:25,089 INFO] 35005 lines in data/sentiment_dataset_train.csv.\n",
            "[2020-12-13 20:03:25,089 INFO] Loading dataset from data/sentiment_dataset_dev.csv\n",
            "[2020-12-13 20:03:25,152 INFO] 7500 lines in data/sentiment_dataset_dev.csv.\n",
            "[2020-12-13 20:03:25,153 INFO] Loading dataset from data/sota_output.csv\n",
            "[2020-12-13 20:03:25,220 INFO] 6501 lines in data/sota_output.csv.\n",
            "[2020-12-13 20:03:25,221 INFO] 41504 train samples\n",
            "[2020-12-13 20:03:25,221 INFO] 7504 dev samples\n",
            "[2020-12-13 20:03:25,221 INFO] 6500 test samples\n",
            "[2020-12-13 20:03:41,495 INFO] Data loader running\n",
            "Training\n",
            "  0% 0/1 [00:00<?, ?it/s]Epoch: 1/1... Acc: 0.831750... Loss: 0.469069...\n",
            "Val_Acc: 0.758662... Val_Loss: 0.724826...\n",
            "Epoch: 1/1... Acc: 0.834125... Loss: 0.461546...\n",
            "Val_Acc: 0.769190... Val_Loss: 0.676899...\n",
            "Epoch: 1/1... Acc: 0.835750... Loss: 0.456180...\n",
            "Val_Acc: 0.766924... Val_Loss: 0.702454...\n",
            "Epoch: 1/1... Acc: 0.833750... Loss: 0.456513...\n",
            "Val_Acc: 0.764925... Val_Loss: 0.715720...\n",
            "Epoch: 1/1... Acc: 0.833050... Loss: 0.457709...\n",
            "Val_Acc: 0.769590... Val_Loss: 0.705484...\n",
            "Epoch: 1/1... Acc: 0.834000... Loss: 0.457882...\n",
            "Val_Acc: 0.767191... Val_Loss: 0.694187...\n",
            "Epoch: 1/1... Acc: 0.834036... Loss: 0.458199...\n",
            "Val_Acc: 0.766125... Val_Loss: 0.714856...\n",
            "Epoch: 1/1... Acc: 0.834531... Loss: 0.459502...\n",
            "Val_Acc: 0.766258... Val_Loss: 0.704916...\n",
            "Epoch: 1/1... Acc: 0.833167... Loss: 0.462103...\n",
            "Val_Acc: 0.770256... Val_Loss: 0.691003...\n",
            "Epoch: 1/1... Acc: 0.833350... Loss: 0.461144...\n",
            "Val_Acc: 0.766258... Val_Loss: 0.699173...\n",
            "100% 1/1 [36:21<00:00, 2181.39s/it]\n",
            "[2020-12-13 20:40:02,903 INFO] Creating pseudo-labels\n",
            "[2020-12-13 20:40:02,956 INFO] 6501 lines in data/sentiment_dataset_test.csv.\n",
            "[2020-12-13 20:40:05,497 INFO] Data loader running\n",
            "[2020-12-13 20:40:05,498 INFO] Done\n",
            "100% 6500/6500 [00:00<00:00, 63634.91it/s]\n",
            "[2020-12-13 20:41:10,733 INFO] predictions written to output/sota_output.csv\n",
            "[2020-12-13 20:41:10,744 INFO] Evaluating on pseudo-labels\n",
            "[2020-12-13 20:41:10,803 INFO] 6501 lines in output/sota_output.csv.\n",
            "[2020-12-13 20:41:13,362 INFO] Data loader running\n",
            "[2020-12-13 20:41:13,362 INFO] Done\n",
            "Val_Acc: 0.999385... Val_Loss: 0.167095...\n",
            "[2020-12-13 20:42:19,378 INFO] \n",
            "\n",
            "test EVALUATION\n",
            "Accuracy  = 1.0\n",
            "Precision  = 1.0\n",
            "Recall  = 1.0\n",
            "F_measure  = 1.0\n",
            "100% 6500/6500 [00:00<00:00, 60244.74it/s]\n",
            "[2020-12-13 20:42:19,492 INFO] predictions written to output/sota_output.csv\n"
          ],
          "name": "stdout"
        }
      ]
    },
    {
      "cell_type": "markdown",
      "metadata": {
        "id": "NY44ZQWNnd6D"
      },
      "source": [
        "Train SOTA"
      ]
    },
    {
      "cell_type": "code",
      "metadata": {
        "id": "3Os-1ADnnX4p"
      },
      "source": [
        "!python src/sent_analysis.py -model 'sota' -mode 'train'"
      ],
      "execution_count": null,
      "outputs": []
    },
    {
      "cell_type": "code",
      "metadata": {
        "id": "iyHKgnILnzRa"
      },
      "source": [
        "To repeat the 'train', 'test' or 'inference' modes on the baseline model simply change model choice to 'baseline'"
      ],
      "execution_count": null,
      "outputs": []
    },
    {
      "cell_type": "code",
      "metadata": {
        "id": "2z9xMmuJn-PK"
      },
      "source": [
        "!python src/sent_analysis.py -model 'baseline' -mode 'test'"
      ],
      "execution_count": null,
      "outputs": []
    }
  ]
}